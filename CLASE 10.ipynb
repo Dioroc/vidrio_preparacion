{
 "cells": [
  {
   "cell_type": "code",
   "execution_count": 1,
   "id": "435c5947",
   "metadata": {},
   "outputs": [],
   "source": [
    "import pandas as pd\n",
    "from sklearn.model_selection import train_test_split\n",
    "from sklearn import metrics\n",
    "from sklearn import tree\n",
    "from sklearn import svm\n",
    "from sklearn.metrics import classification_report\n",
    "from sklearn.metrics import confusion_matrix\n",
    "from sklearn.model_selection import GridSearchCV\n",
    "\n",
    "import seaborn as sns # Libreria para graficar confusión\n",
    "sns.set(style=\"whitegrid\")\n",
    "import matplotlib.pyplot as plt\n",
    "%matplotlib inline\n",
    "\n",
    "from ipywidgets import interact, interactive, fixed, interact_manual\n",
    "import ipywidgets as widgets"
   ]
  },
  {
   "cell_type": "markdown",
   "id": "575b11e8",
   "metadata": {},
   "source": [
    "# Preparación"
   ]
  },
  {
   "cell_type": "code",
   "execution_count": 2,
   "id": "ebabd5f3",
   "metadata": {},
   "outputs": [],
   "source": [
    "glass_data = pd.read_csv(\"./Data2/glass.csv\")\n",
    "glass_data.Type= glass_data.Type.str.replace('\\'','')\n",
    "\n",
    "glass_data.loc[glass_data.Type == 'build wind float','Type']=1\n",
    "glass_data.loc[glass_data.Type == 'build wind non-float','Type']=2\n",
    "glass_data.loc[glass_data.Type == 'vehic wind float','Type']=3\n",
    "glass_data.loc[glass_data.Type == 'containers','Type']=5\n",
    "glass_data.loc[glass_data.Type == 'tableware','Type']=6\n",
    "glass_data.loc[glass_data.Type == 'headlamps','Type']=7\n",
    "glass_data['Type'] = pd.to_numeric(glass_data['Type'])\n",
    "\n",
    "glass_data = glass_data.drop(glass_data[glass_data['K']>=2].index)\n",
    "\n",
    "new_df = glass_data.drop_duplicates()\n",
    "\n",
    "new_df = new_df.dropna()"
   ]
  },
  {
   "cell_type": "markdown",
   "id": "22295cdf",
   "metadata": {},
   "source": [
    "# Entrenamiento"
   ]
  },
  {
   "cell_type": "code",
   "execution_count": 3,
   "id": "f718e790",
   "metadata": {},
   "outputs": [],
   "source": [
    "y_data = glass_data['Type']\n",
    "x_data = glass_data.drop('Type', axis = 1)\n",
    "x_training_data, x_test_data, y_training_data, y_test_data = train_test_split(x_data, y_data, test_size = 0.3)"
   ]
  },
  {
   "cell_type": "code",
   "execution_count": 4,
   "id": "6e53aa31",
   "metadata": {},
   "outputs": [
    {
     "name": "stdout",
     "output_type": "stream",
     "text": [
      "              precision    recall  f1-score   support\n",
      "\n",
      "           1       0.00      0.00      0.00        22\n",
      "           2       0.33      1.00      0.49        21\n",
      "           3       0.00      0.00      0.00         4\n",
      "           5       0.00      0.00      0.00         6\n",
      "           6       0.00      0.00      0.00         3\n",
      "           7       0.00      0.00      0.00         8\n",
      "\n",
      "    accuracy                           0.33        64\n",
      "   macro avg       0.05      0.17      0.08        64\n",
      "weighted avg       0.11      0.33      0.16        64\n",
      "\n"
     ]
    },
    {
     "name": "stderr",
     "output_type": "stream",
     "text": [
      "C:\\Users\\Alex\\anaconda3\\lib\\site-packages\\sklearn\\metrics\\_classification.py:1318: UndefinedMetricWarning: Precision and F-score are ill-defined and being set to 0.0 in labels with no predicted samples. Use `zero_division` parameter to control this behavior.\n",
      "  _warn_prf(average, modifier, msg_start, len(result))\n",
      "C:\\Users\\Alex\\anaconda3\\lib\\site-packages\\sklearn\\metrics\\_classification.py:1318: UndefinedMetricWarning: Precision and F-score are ill-defined and being set to 0.0 in labels with no predicted samples. Use `zero_division` parameter to control this behavior.\n",
      "  _warn_prf(average, modifier, msg_start, len(result))\n",
      "C:\\Users\\Alex\\anaconda3\\lib\\site-packages\\sklearn\\metrics\\_classification.py:1318: UndefinedMetricWarning: Precision and F-score are ill-defined and being set to 0.0 in labels with no predicted samples. Use `zero_division` parameter to control this behavior.\n",
      "  _warn_prf(average, modifier, msg_start, len(result))\n"
     ]
    }
   ],
   "source": [
    "model = svm.SVC()\n",
    "model.fit(x_training_data, y_training_data)\n",
    "\n",
    "predictions = model.predict(x_test_data)\n",
    "report = classification_report(y_test_data, predictions)\n",
    "\n",
    "sc1 = metrics.accuracy_score(predictions,y_test_data)\n",
    "\n",
    "print(report)"
   ]
  },
  {
   "cell_type": "markdown",
   "id": "09420900",
   "metadata": {},
   "source": [
    "# Hiperparametro"
   ]
  },
  {
   "cell_type": "code",
   "execution_count": 5,
   "id": "56bb8e4b",
   "metadata": {},
   "outputs": [
    {
     "name": "stdout",
     "output_type": "stream",
     "text": [
      "SVC(C=0.05, gamma=0.05, kernel='poly', probability=True)\n",
      "              precision    recall  f1-score   support\n",
      "\n",
      "           1       0.73      0.73      0.73        22\n",
      "           2       0.64      0.86      0.73        21\n",
      "           3       0.00      0.00      0.00         4\n",
      "           5       1.00      0.83      0.91         6\n",
      "           6       1.00      0.67      0.80         3\n",
      "           7       1.00      0.88      0.93         8\n",
      "\n",
      "    accuracy                           0.75        64\n",
      "   macro avg       0.73      0.66      0.68        64\n",
      "weighted avg       0.73      0.75      0.73        64\n",
      "\n"
     ]
    },
    {
     "name": "stderr",
     "output_type": "stream",
     "text": [
      "C:\\Users\\Alex\\anaconda3\\lib\\site-packages\\sklearn\\metrics\\_classification.py:1318: UndefinedMetricWarning: Precision and F-score are ill-defined and being set to 0.0 in labels with no predicted samples. Use `zero_division` parameter to control this behavior.\n",
      "  _warn_prf(average, modifier, msg_start, len(result))\n",
      "C:\\Users\\Alex\\anaconda3\\lib\\site-packages\\sklearn\\metrics\\_classification.py:1318: UndefinedMetricWarning: Precision and F-score are ill-defined and being set to 0.0 in labels with no predicted samples. Use `zero_division` parameter to control this behavior.\n",
      "  _warn_prf(average, modifier, msg_start, len(result))\n",
      "C:\\Users\\Alex\\anaconda3\\lib\\site-packages\\sklearn\\metrics\\_classification.py:1318: UndefinedMetricWarning: Precision and F-score are ill-defined and being set to 0.0 in labels with no predicted samples. Use `zero_division` parameter to control this behavior.\n",
      "  _warn_prf(average, modifier, msg_start, len(result))\n"
     ]
    }
   ],
   "source": [
    "model1 = svm.SVC()\n",
    "param_grid = {'C': [0.001, 0.01, 0.05, 0.1],\n",
    "              'gamma': [0.001, 0.01, 0.05, 0.1],\n",
    "              'kernel': ['rbf','poly'],\n",
    "              'probability':[True] }\n",
    "\n",
    "gs = GridSearchCV(model1, param_grid=param_grid, scoring='accuracy', refit='accuracy', cv=3, return_train_score=True)\n",
    "gs.fit(x_training_data, y_training_data)\n",
    "modelo = gs.best_estimator_\n",
    "predictions1 = modelo.predict(x_test_data)\n",
    "report1 = classification_report(y_test_data, predictions1)\n",
    "\n",
    "sc2 = metrics.accuracy_score(predictions1,y_test_data)\n",
    "\n",
    "print(gs.best_estimator_)\n",
    "print(report1)"
   ]
  },
  {
   "cell_type": "code",
   "execution_count": 6,
   "id": "cf7d86e1",
   "metadata": {},
   "outputs": [
    {
     "data": {
      "text/plain": [
       "Text(15.380000000000003, 0.5, 'Valores pronosticados por el modelo')"
      ]
     },
     "execution_count": 6,
     "metadata": {},
     "output_type": "execute_result"
    },
    {
     "data": {
      "image/png": "[encoded data removed]",
      "text/plain": [
       "<Figure size 288x288 with 1 Axes>"
      ]
     },
     "metadata": {
      "needs_background": "light"
     },
     "output_type": "display_data"
    }
   ],
   "source": [
    "mat = confusion_matrix(y_test_data, predictions1)\n",
    "plt.subplots(figsize=(4,4))\n",
    "sns.heatmap(mat.T, square=True, annot=True, fmt='d', cbar=False, linewidth=.5)\n",
    "plt.xlabel('Valores reales')\n",
    "plt.ylabel('Valores pronosticados por el modelo')"
   ]
  },
  {
   "cell_type": "code",
   "execution_count": 7,
   "id": "5d313758",
   "metadata": {},
   "outputs": [
    {
     "name": "stdout",
     "output_type": "stream",
     "text": [
      "              precision    recall  f1-score   support\n",
      "\n",
      "           1       0.80      0.55      0.65        22\n",
      "           2       0.64      0.76      0.70        21\n",
      "           3       0.25      0.25      0.25         4\n",
      "           5       0.57      0.67      0.62         6\n",
      "           6       0.75      1.00      0.86         3\n",
      "           7       0.78      0.88      0.82         8\n",
      "\n",
      "    accuracy                           0.67        64\n",
      "   macro avg       0.63      0.68      0.65        64\n",
      "weighted avg       0.69      0.67      0.67        64\n",
      "\n"
     ]
    }
   ],
   "source": [
    "# Arbol de decisión\n",
    "modelo2 = tree.DecisionTreeClassifier()\n",
    "modelo2.fit(x_training_data, y_training_data)\n",
    "predictions2 = modelo2.predict(x_test_data)\n",
    "\n",
    "sc3 = metrics.accuracy_score(predictions2,y_test_data)\n",
    "\n",
    "report2 = classification_report(y_test_data, predictions2)\n",
    "print(report2)"
   ]
  },
  {
   "cell_type": "code",
   "execution_count": 8,
   "id": "e9b59518",
   "metadata": {},
   "outputs": [
    {
     "data": {
      "text/plain": [
       "Text(15.380000000000003, 0.5, 'Valores pronosticados por el modelo')"
      ]
     },
     "execution_count": 8,
     "metadata": {},
     "output_type": "execute_result"
    },
    {
     "data": {
      "image/png": "[encoded data removed]",
      "text/plain": [
       "<Figure size 288x288 with 1 Axes>"
      ]
     },
     "metadata": {
      "needs_background": "light"
     },
     "output_type": "display_data"
    }
   ],
   "source": [
    "mat = confusion_matrix(y_test_data, predictions2)\n",
    "plt.subplots(figsize=(4,4))\n",
    "sns.heatmap(mat.T, square=True, annot=True, fmt='d', cbar=False, linewidth=.5)\n",
    "plt.xlabel('Valores reales')\n",
    "plt.ylabel('Valores pronosticados por el modelo')"
   ]
  },
  {
   "cell_type": "code",
   "execution_count": 9,
   "id": "28f23d91",
   "metadata": {},
   "outputs": [
    {
     "data": {
      "text/html": [
       "<div>\n",
       "<style scoped>\n",
       "    .dataframe tbody tr th:only-of-type {\n",
       "        vertical-align: middle;\n",
       "    }\n",
       "\n",
       "    .dataframe tbody tr th {\n",
       "        vertical-align: top;\n",
       "    }\n",
       "\n",
       "    .dataframe thead th {\n",
       "        text-align: right;\n",
       "    }\n",
       "</style>\n",
       "<table border=\"1\" class=\"dataframe\">\n",
       "  <thead>\n",
       "    <tr style=\"text-align: right;\">\n",
       "      <th></th>\n",
       "      <th>Modelo</th>\n",
       "      <th>Accuracy</th>\n",
       "    </tr>\n",
       "  </thead>\n",
       "  <tbody>\n",
       "    <tr>\n",
       "      <th>0</th>\n",
       "      <td>Support Vector Machine</td>\n",
       "      <td>0.328125</td>\n",
       "    </tr>\n",
       "    <tr>\n",
       "      <th>1</th>\n",
       "      <td>Support Vector Machine 1</td>\n",
       "      <td>0.750000</td>\n",
       "    </tr>\n",
       "    <tr>\n",
       "      <th>2</th>\n",
       "      <td>Decision Tree</td>\n",
       "      <td>0.671875</td>\n",
       "    </tr>\n",
       "  </tbody>\n",
       "</table>\n",
       "</div>"
      ],
      "text/plain": [
       "                     Modelo  Accuracy\n",
       "0    Support Vector Machine  0.328125\n",
       "1  Support Vector Machine 1  0.750000\n",
       "2             Decision Tree  0.671875"
      ]
     },
     "execution_count": 9,
     "metadata": {},
     "output_type": "execute_result"
    }
   ],
   "source": [
    "pd.DataFrame([['Support Vector Machine',sc1],\n",
    "              ['Support Vector Machine 1',sc2],\n",
    "              ['Decision Tree',sc3]],\n",
    "             columns=['Modelo','Accuracy'])"
   ]
  },
  {
   "cell_type": "markdown",
   "id": "f571e59a",
   "metadata": {},
   "source": [
    "# Guardar el modelo y despliegue"
   ]
  },
  {
   "cell_type": "code",
   "execution_count": 10,
   "id": "63f39c7c",
   "metadata": {},
   "outputs": [],
   "source": [
    "from pickle import dump\n",
    "from pickle import load"
   ]
  },
  {
   "cell_type": "code",
   "execution_count": 11,
   "id": "91c4d6a3",
   "metadata": {},
   "outputs": [],
   "source": [
    "model_select = model1\n",
    "def guardar_modelo(model_select,nombre):\n",
    "    output = open(nombre,  'wb')\n",
    "    dump(model_select,  output, -1)\n",
    "    output.close()\n",
    "def cargar_modelo(nombre): \n",
    "    input = open(nombre,  'rb')\n",
    "    model_select = load(input)\n",
    "    input.close()   \n",
    "    return model_select"
   ]
  },
  {
   "cell_type": "code",
   "execution_count": 12,
   "id": "5cc0d863",
   "metadata": {},
   "outputs": [],
   "source": [
    "nombre = 'model_name.pkl'\n",
    "guardar_modelo(model_select,nombre)"
   ]
  },
  {
   "cell_type": "code",
   "execution_count": 13,
   "id": "59c52d2c",
   "metadata": {},
   "outputs": [
    {
     "data": {
      "text/plain": [
       "SVC()"
      ]
     },
     "execution_count": 13,
     "metadata": {},
     "output_type": "execute_result"
    }
   ],
   "source": [
    "cargar_modelo(nombre)"
   ]
  },
  {
   "cell_type": "markdown",
   "id": "dd1897ec",
   "metadata": {},
   "source": [
    "# Despliegue"
   ]
  },
  {
   "cell_type": "code",
   "execution_count": 14,
   "id": "df4a8801",
   "metadata": {},
   "outputs": [
    {
     "data": {
      "text/plain": [
       "SVC(C=0.1, gamma=0.1, kernel='poly')"
      ]
     },
     "execution_count": 14,
     "metadata": {},
     "output_type": "execute_result"
    }
   ],
   "source": [
    "svm_mod = svm.SVC(C=0.1, gamma=0.1, kernel='poly')\n",
    "svm_mod.fit(x_data.iloc[:,0:5],y_data)"
   ]
  },
  {
   "cell_type": "code",
   "execution_count": 15,
   "id": "c0e66d13",
   "metadata": {},
   "outputs": [],
   "source": [
    "from IPython.display import display\n",
    "def f(RI, Na, Mg, Al, Si):\n",
    "    y_val = svm_mod.predict([[RI,Na,Mg,Al,Si]])\n",
    "    print(\"The Glass Type is {}\".format(y_val))"
   ]
  },
  {
   "cell_type": "code",
   "execution_count": 17,
   "id": "0547c9c1",
   "metadata": {},
   "outputs": [
    {
     "data": {
      "application/vnd.jupyter.widget-view+json": {
       "model_id": "6d068b440b8a43caa726154b088f2940",
       "version_major": 2,
       "version_minor": 0
      },
      "text/plain": [
       "interactive(children=(FloatSlider(value=1.52, description='RI', max=1.54, min=1.5, step=0.0001), FloatSlider(v…"
      ]
     },
     "metadata": {},
     "output_type": "display_data"
    },
    {
     "data": {
      "text/plain": [
       "<function __main__.f(RI, Na, Mg, Al, Si)>"
      ]
     },
     "execution_count": 17,
     "metadata": {},
     "output_type": "execute_result"
    }
   ],
   "source": [
    "interact(f, RI=(1.50,1.54,0.0001),Na=(10.7,17.4),Mg=(0,4.5),Al=(0,3.5),Si=(69,76))"
   ]
  },
  {
   "cell_type": "code",
   "execution_count": null,
   "id": "3482ba7e",
   "metadata": {},
   "outputs": [],
   "source": []
  }
 ],
 "metadata": {
  "kernelspec": {
   "display_name": "Python 3 (ipykernel)",
   "language": "python",
   "name": "python3"
  },
  "language_info": {
   "codemirror_mode": {
    "name": "ipython",
    "version": 3
   },
   "file_extension": ".py",
   "mimetype": "text/x-python",
   "name": "python",
   "nbconvert_exporter": "python",
   "pygments_lexer": "ipython3",
   "version": "3.9.12"
  }
 },
 "nbformat": 4,
 "nbformat_minor": 5
}
